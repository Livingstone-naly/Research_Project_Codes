{
 "cells": [
  {
   "cell_type": "code",
   "execution_count": 1,
   "id": "institutional-lloyd",
   "metadata": {},
   "outputs": [
    {
     "data": {
      "image/png": "[encoded data removed]",
      "text/plain": [
       "<Figure size 432x288 with 1 Axes>"
      ]
     },
     "metadata": {
      "needs_background": "light"
     },
     "output_type": "display_data"
    }
   ],
   "source": [
    "#Import numpy and matplotliv.pyplot libaries\n",
    "import numpy as np\n",
    "import matplotlib.pyplot as plt\n",
    "\n",
    "# Define the x and y ranges and number of points\n",
    "x0, x1 = -5.0, 2.5\n",
    "y0, y1 = -5.0, 5.0\n",
    "Nx, Ny = 501, 501\n",
    "\n",
    "# Create the mesh grid\n",
    "xv = np.linspace(x0, x1, Nx)\n",
    "yv = np.linspace(y0, y1, Ny)\n",
    "x, y = np.meshgrid(xv, yv)\n",
    "\n",
    "# Complex number representation (w)\n",
    "w = x + 1j * y  # 1j for imaginary unit in Python\n",
    "\n",
    "# Stability polynomial (g)\n",
    "g = 1 + w + w**2 / 2 + w**3 / 6 + w**4 / 24 + w**5 / 120 + w**6 / 720 + w**7 / 5040 + w**8 / 40320\n",
    "\n",
    "# Calculate magnitude of g (gmag)\n",
    "gmag = np.abs(g)\n",
    "\n",
    "# Plot contours of gmag\n",
    "plt.contourf(x, y, gmag, levels=[0,1], cmap='Accent') \n",
    "plt.axis([x0, x1, y0, y1])\n",
    "# plt.axis('square')\n",
    "plt.xlabel('Real(w)')\n",
    "plt.ylabel('Imag(w)')\n",
    "# plt.title('Linear Stability Region (shaded) of the Method given by (3.1.28)')  # Add a title\n",
    "plt.show()\n"
   ]
  },
  {
   "cell_type": "code",
   "execution_count": null,
   "id": "213db073",
   "metadata": {},
   "outputs": [],
   "source": []
  }
 ],
 "metadata": {
  "kernelspec": {
   "display_name": "Python 3",
   "language": "python",
   "name": "python3"
  },
  "language_info": {
   "codemirror_mode": {
    "name": "ipython",
    "version": 3
   },
   "file_extension": ".py",
   "mimetype": "text/x-python",
   "name": "python",
   "nbconvert_exporter": "python",
   "pygments_lexer": "ipython3",
   "version": "3.9.2"
  }
 },
 "nbformat": 4,
 "nbformat_minor": 5
}
